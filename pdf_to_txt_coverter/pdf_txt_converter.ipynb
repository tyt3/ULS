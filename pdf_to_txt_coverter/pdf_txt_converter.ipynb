{
 "cells": [
  {
   "cell_type": "markdown",
   "metadata": {},
   "source": [
    "# Convert PDF files to TXT files"
   ]
  },
  {
   "cell_type": "markdown",
   "metadata": {},
   "source": [
    "The code in this Jupyter Notebook converts PDF files into plain text files (*.txt) by extracting text from each page of the documents, then writing that text to newly created TXT files. "
   ]
  },
  {
   "cell_type": "markdown",
   "metadata": {},
   "source": [
    "## Setup"
   ]
  },
  {
   "cell_type": "markdown",
   "metadata": {},
   "source": [
    "First, we need to install the libraries/packages required to run the code in this notebook."
   ]
  },
  {
   "cell_type": "markdown",
   "metadata": {},
   "source": [
    "<div class=\"alert alert-block alert-info\">You only need to run the cell below the first time you use this notebook.</div>"
   ]
  },
  {
   "cell_type": "code",
   "execution_count": null,
   "metadata": {},
   "outputs": [],
   "source": [
    "# Uninstall the fitz\n",
    "%pip uninstall fitz\n",
    "%pip install -r requirements.txt"
   ]
  },
  {
   "cell_type": "markdown",
   "metadata": {},
   "source": [
    "Next, we import the libraries and modules we'll be using."
   ]
  },
  {
   "cell_type": "code",
   "execution_count": null,
   "metadata": {},
   "outputs": [],
   "source": [
    "# Import required modules \n",
    "import os\n",
    "import fitz"
   ]
  },
  {
   "cell_type": "markdown",
   "metadata": {},
   "source": [
    "<div class='alert alert-block alert-info'>Running the cell above may have given you a warning messesage, \"WARNING: Skipping fitz as it is not installed.\" If so, no worries! That just means that there wasn't already a package called <code>fitz</code> installed. If you didn't get a warning message, <code>fitz</code> was uninstalled in order to avoid interference with importing the PyMuPDF library in the <code>import fitz</code> line. For more information, see the following GitHub issue for the PyMuPDF project: <a href='https://github.com/pymupdf/PyMuPDF/issues/523' target='_blank'>Unable to use fitz with python 3.8</a></div>"
   ]
  },
  {
   "cell_type": "markdown",
   "metadata": {},
   "source": [
    "The last setup steps are to specify the folder/directory containing the PDF files you want to convert and the directory where you want to save the newly-created TXT files."
   ]
  },
  {
   "cell_type": "markdown",
   "metadata": {},
   "source": [
    "<div class=\"alert alert-block alert-info\">This notebook assumes that the PDF files you want to convert are in a folder/directory called 'pdf' that is in the same directory as the notebook. If the PDF files are in a different directory, you will need to update the value for the <code>pdf_dir</code> variable accordingly in the cell below. You may use either a relative path or an absolute path (for more information, see <a href=\"https://www.computerhope.com/issues/ch001708.htm\" target=\"_blank\">What is the difference between a relative and absolute path?</a>).</div"
   ]
  },
  {
   "cell_type": "code",
   "execution_count": null,
   "metadata": {},
   "outputs": [],
   "source": [
    "# Set the directory with PDF documents for text extraction\n",
    "pdf_dir = 'pdf'\n",
    "\n",
    "# Validate directory path\n",
    "if not os.path.exists(pdf_dir):\n",
    "    raise Exception (\"Directory '%s' not found!\" % (pdf_dir))"
   ]
  },
  {
   "cell_type": "markdown",
   "metadata": {},
   "source": [
    "<div class='alert alert-block alert-info'>If you'd like to store your TXT files in a different directory, make sure to to update the value for the <code>txt_dir</code> variable accordingly in the cell below.</div>"
   ]
  },
  {
   "cell_type": "code",
   "execution_count": null,
   "metadata": {},
   "outputs": [],
   "source": [
    "# Create a subdirectory called 'txt' for plain text files\n",
    "txt_dir = 'txt'\n",
    "\n",
    "try:\n",
    "    os.stat(txt_dir)\n",
    "except:\n",
    "    os.mkdir(txt_dir)"
   ]
  },
  {
   "cell_type": "markdown",
   "metadata": {},
   "source": [
    "## Create TXT files with extracted text from PDF documents"
   ]
  },
  {
   "cell_type": "markdown",
   "metadata": {},
   "source": [
    "Finally, we can convert our PDF files into TXT files!\n",
    "\n",
    "**Resources**\n",
    "- [Document — PyMuPDF 1.19.4 documentation](https://pymupdf.readthedocs.io/en/latest/document.html)\n",
    "- [Page — PyMuPDF 1.19.4 documentation](https://pymupdf.readthedocs.io/en/latest/page.html)"
   ]
  },
  {
   "cell_type": "code",
   "execution_count": null,
   "metadata": {},
   "outputs": [],
   "source": [
    "# Create a list for files in which text is not recognized\n",
    "exceptions = []\n",
    "\n",
    "# Iterate through all files in the directory with PDFs\n",
    "for filename in os.listdir(pdf_dir):\n",
    "        \n",
    "    # Check if the file type is PDF before trying to extract text\n",
    "    if filename.endswith('.pdf'):\n",
    "\n",
    "        # Create a PDF Document object\n",
    "        try:\n",
    "            doc = fitz.Document('%s/%s' % (pdf_dir, filename))\n",
    "        except:\n",
    "            continue\n",
    "\n",
    "        # Extract text from the document page-by-page\n",
    "        text = []\n",
    "\n",
    "        for page in doc:\n",
    "            page_text = page.get_text('text')\n",
    "            if page_text:\n",
    "                text.append(page_text)\n",
    "\n",
    "        # If no text is extracted, add the filename to the exceptions list and move on to the next file\n",
    "        if not text:\n",
    "            exceptions.append(filename)\n",
    "            continue\n",
    "        \n",
    "        # Create a TXT file for each document using the PDF filename\n",
    "        # Write each page of document text to the TXT file\n",
    "        with open('%s/%s' % (txt_dir, filename.replace('pdf', 'txt')), 'w', encoding='utf-8') as file:\n",
    "            for page in text:\n",
    "                file.write(page)\n",
    "\n",
    "# Create a TXT file that lists all files in the exceptions list and save to the directory with TXT files\n",
    "if exceptions:\n",
    "    with open('%s/exceptions.txt' % (txt_dir), 'w', encoding='utf-8') as file:\n",
    "        for filename in exceptions:\n",
    "            file.write('%s\\n' % (filename))"
   ]
  },
  {
   "cell_type": "code",
   "execution_count": null,
   "metadata": {},
   "outputs": [],
   "source": [
    "# Check the exceptions list for any files from which text was not extracted successfully\n",
    "exceptions"
   ]
  },
  {
   "cell_type": "markdown",
   "metadata": {},
   "source": [
    "<div class='alert alert-block alert-info'><p>Sometimes, text may not be extracted successfully from a PDF document because it needs to be processed with Optical Character Recognition (OCR) software. OCR processing makes the text in the document  editable and searchable (for more information, see the  <a href=\"https://pitt.libguides.com/ocr\" target=\"_blank\">Optical Character Recognition (OCR) @ Pitt Guide)</a>.</p>\n",
    "    <p>If you need to OCR your document, you can do so using <a href=\"https://acrobat.adobe.com/us/en/acrobat/acrobat-pro.html\" target=\"_blank\">Adobe Acrobat Pro DC</a>, which is installed on most computers in the <a href=\"https://www.technology.pitt.edu/services/student-computing-labs\" target=\"_blank\">Student Computing Labs</a> across campus as well as in the specialized section of the Pitt IT <a href=\"https://www.technology.pitt.edu/services/virtual-lab\" target=\"_blank\">Virtual Computing Lab</a>. Acrobat, among other Adobe products, is also available to Pitt students and faculty to <a href=\"https://www.technology.pitt.edu/software/adobe-software\" target=\"_blank\">install for free</a>.</p></div>"
   ]
  }
 ],
 "metadata": {
  "kernelspec": {
   "display_name": "Python 3",
   "language": "python",
   "name": "python3"
  },
  "language_info": {
   "codemirror_mode": {
    "name": "ipython",
    "version": 3
   },
   "file_extension": ".py",
   "mimetype": "text/x-python",
   "name": "python",
   "nbconvert_exporter": "python",
   "pygments_lexer": "ipython3",
   "version": "3.8.8"
  }
 },
 "nbformat": 4,
 "nbformat_minor": 2
}
